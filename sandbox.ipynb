{
 "cells": [
  {
   "cell_type": "code",
   "execution_count": 1,
   "id": "95890d96-44aa-4a92-aa51-9ddcaeb83eb1",
   "metadata": {},
   "outputs": [
    {
     "name": "stdout",
     "output_type": "stream",
     "text": [
      "time: 44.6 μs (started: 2025-08-19 08:40:28 -04:00)\n"
     ]
    }
   ],
   "source": [
    "import pandas as pd\n",
    "import numpy as np\n",
    "import matplotlib.pyplot as plt\n",
    "import importlib\n",
    "\n",
    "import logging\n",
    "import sys, os\n",
    "\n",
    "date_strftime_format = '%Y-%m-%d %H:%M:%S'\n",
    "os.environ[\"GOOGLE_APPLICATION_CREDENTIALS\"] = os.path.join(os.getcwd(), 'credential.json')\n",
    "\n",
    "\n",
    "from dotenv import load_dotenv\n",
    "# Load environment variables from .env file\n",
    "load_dotenv()\n",
    "\n",
    "logging.basicConfig(stream=sys.stdout, level=logging.INFO, \n",
    "                    format='%(asctime)s - %(levelname)s - %(message)s',\n",
    "                    datefmt=date_strftime_format)\n",
    "\n",
    "%load_ext autotime"
   ]
  },
  {
   "cell_type": "code",
   "execution_count": null,
   "id": "361fd558-9719-4c23-9d3c-e5e5314c0500",
   "metadata": {},
   "outputs": [],
   "source": []
  },
  {
   "cell_type": "code",
   "execution_count": 2,
   "id": "51247c67-78cb-46d4-ba5f-9c31419851b7",
   "metadata": {},
   "outputs": [
    {
     "name": "stdout",
     "output_type": "stream",
     "text": [
      "time: 325 ms (started: 2025-08-19 08:40:28 -04:00)\n"
     ]
    }
   ],
   "source": [
    "import market_data.ingest.common\n",
    "import market_data.machine_learning.resample.calc\n",
    "import market_data.util\n",
    "import market_data.util.time\n",
    "from market_data.feature.label import FeatureLabel, FeatureLabelCollection\n",
    "from market_data.feature.param import SequentialFeatureParam\n",
    "from market_data.ingest.common import AGGREGATION_MODE, DATASET_MODE, EXPORT_MODE, CacheContext\n",
    "from market_data.machine_learning.ml_data.cache import calculate_and_cache_ml_data, load_cached_ml_data\n",
    "from market_data.machine_learning.ml_data.calc import calculate as calculate_ml_data\n",
    "from market_data.machine_learning.resample.calc import CumSumResampleParams\n",
    "from market_data.target.param import TargetParams, TargetParamsBatch\n",
    "\n",
    "cache_context = market_data.ingest.common.CacheContext(\n",
    "    DATASET_MODE.OKX, EXPORT_MODE.BY_MINUTE, AGGREGATION_MODE.TAKE_LATEST)\n"
   ]
  },
  {
   "cell_type": "code",
   "execution_count": null,
   "id": "77c09045-57a8-4562-b25d-fe618d1576a7",
   "metadata": {},
   "outputs": [],
   "source": []
  },
  {
   "cell_type": "code",
   "execution_count": 8,
   "id": "ad1d760a-6f9e-4de4-900d-1304a64a0147",
   "metadata": {},
   "outputs": [
    {
     "name": "stdout",
     "output_type": "stream",
     "text": [
      "2025-08-19 23:25:12 - INFO - Loading regular feature_resampled data for 0 features\n",
      "2025-08-19 23:25:12 - INFO - Successfully prepared regular ML data with 38 rows and 59 columns\n",
      "time: 542 ms (started: 2025-08-19 23:25:12 -04:00)\n"
     ]
    }
   ],
   "source": [
    "time_range = market_data.util.time.TimeRange(\n",
    "    date_str_from='2025-06-30', date_str_to='2025-07-01',\n",
    "    )\n",
    "\n",
    "target_params_batch = TargetParamsBatch(\n",
    "        target_params_list=[TargetParams(forward_period=int(period), tp_value=float(tp), sl_value=float(tp)) \n",
    "            for period in [5, 10, 30]\n",
    "            for tp in [0.015, 0.03, 0.05]]\n",
    "        )\n",
    "\n",
    "\n",
    "ml_data = calculate_ml_data(\n",
    "    CacheContext(market_data.ingest.common.DATASET_MODE.OKX, market_data.ingest.common.EXPORT_MODE.BY_MINUTE, market_data.ingest.common.AGGREGATION_MODE.TAKE_LATEST),\n",
    "    time_range=time_range,\n",
    "    feature_collection = FeatureLabelCollection(),\n",
    "    target_params_batch=target_params_batch,\n",
    "    resample_params=CumSumResampleParams(price_col = 'close', threshold = 0.1),\n",
    ")"
   ]
  },
  {
   "cell_type": "code",
   "execution_count": null,
   "id": "06342d96-0b7d-42cd-be20-5c4230ec44b2",
   "metadata": {},
   "outputs": [],
   "source": []
  },
  {
   "cell_type": "code",
   "execution_count": 9,
   "id": "d016538a-d926-4456-94cc-32ce6de3baf9",
   "metadata": {},
   "outputs": [
    {
     "data": {
      "text/plain": [
       "(38, 59)"
      ]
     },
     "execution_count": 9,
     "metadata": {},
     "output_type": "execute_result"
    },
    {
     "name": "stdout",
     "output_type": "stream",
     "text": [
      "time: 1.67 ms (started: 2025-08-19 23:25:12 -04:00)\n"
     ]
    }
   ],
   "source": [
    "ml_data.shape"
   ]
  },
  {
   "cell_type": "code",
   "execution_count": null,
   "id": "0d165276-59b0-46e8-b5c3-29318c91f757",
   "metadata": {},
   "outputs": [],
   "source": []
  },
  {
   "cell_type": "code",
   "execution_count": null,
   "id": "331bdc4e-242c-4a4d-a9bd-bdd38368e6e7",
   "metadata": {},
   "outputs": [],
   "source": []
  },
  {
   "cell_type": "code",
   "execution_count": null,
   "id": "91b54b2d-af22-4e97-b1d3-db98ef5864c7",
   "metadata": {},
   "outputs": [],
   "source": []
  },
  {
   "cell_type": "code",
   "execution_count": null,
   "id": "375c3dd6-ed9a-4a13-a6eb-e2073cee4a3d",
   "metadata": {},
   "outputs": [],
   "source": []
  }
 ],
 "metadata": {
  "kernelspec": {
   "display_name": "Python 3 (ipykernel)",
   "language": "python",
   "name": "python3"
  },
  "language_info": {
   "codemirror_mode": {
    "name": "ipython",
    "version": 3
   },
   "file_extension": ".py",
   "mimetype": "text/x-python",
   "name": "python",
   "nbconvert_exporter": "python",
   "pygments_lexer": "ipython3",
   "version": "3.10.12"
  }
 },
 "nbformat": 4,
 "nbformat_minor": 5
}
